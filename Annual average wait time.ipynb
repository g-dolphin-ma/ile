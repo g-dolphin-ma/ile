{
 "cells": [
  {
   "attachments": {},
   "cell_type": "markdown",
   "metadata": {},
   "source": [
    "# Annual average wait time\n",
    "\n",
    "This is a simple read dataset demo that shows how to use `ile.io.NHMACS` wrapper class for the NHMACS dataset on CDC."
   ]
  },
  {
   "cell_type": "code",
   "execution_count": 64,
   "metadata": {},
   "outputs": [
    {
     "name": "stdout",
     "output_type": "stream",
     "text": [
      "The autoreload extension is already loaded. To reload it, use:\n",
      "  %reload_ext autoreload\n"
     ]
    }
   ],
   "source": [
    "%load_ext autoreload\n",
    "%autoreload 2"
   ]
  },
  {
   "attachments": {},
   "cell_type": "markdown",
   "metadata": {},
   "source": [
    "In the cell below, we will attempt to load all dataset from 2011 to 2020. "
   ]
  },
  {
   "cell_type": "code",
   "execution_count": 63,
   "metadata": {},
   "outputs": [
    {
     "name": "stdout",
     "output_type": "stream",
     "text": [
      "2011, mean(t_wait)=43.81 min\n",
      "2012, mean(t_wait)=34.34 min\n",
      "2013, mean(t_wait)=36.38 min\n",
      "2014, mean(t_wait)=32.54 min\n",
      "2015, mean(t_wait)=31.21 min\n",
      "2016, mean(t_wait)=30.20 min\n",
      "2017, mean(t_wait)=29.79 min\n",
      "2018, mean(t_wait)=30.18 min\n",
      "2019, mean(t_wait)=31.53 min\n",
      "2020, mean(t_wait)=22.47 min\n"
     ]
    }
   ],
   "source": [
    "import ile.io\n",
    "\n",
    "# 2006-2010, datasets are compressed as self-extracting ZIP in EXE\n",
    "for year in range(2011, 2020+1):\n",
    "    dataset = ile.io.NHAMCS(year)\n",
    "    t_wait = dataset.data['WAITTIME'].mean()\n",
    "    print(f'{year}, mean(t_wait)={t_wait:.2f} min')"
   ]
  },
  {
   "cell_type": "code",
   "execution_count": null,
   "metadata": {},
   "outputs": [],
   "source": []
  }
 ],
 "metadata": {
  "kernelspec": {
   "display_name": "ile",
   "language": "python",
   "name": "python3"
  },
  "language_info": {
   "codemirror_mode": {
    "name": "ipython",
    "version": 3
   },
   "file_extension": ".py",
   "mimetype": "text/x-python",
   "name": "python",
   "nbconvert_exporter": "python",
   "pygments_lexer": "ipython3",
   "version": "3.10.8 (main, Nov 24 2022, 08:09:04) [Clang 14.0.6 ]"
  },
  "orig_nbformat": 4,
  "vscode": {
   "interpreter": {
    "hash": "96d6f144152b2c20b57dc09ed814165b094fcf0cb8d15b31a3835fcf58927ea4"
   }
  }
 },
 "nbformat": 4,
 "nbformat_minor": 2
}
